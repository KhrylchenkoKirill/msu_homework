{
 "cells": [
  {
   "cell_type": "code",
   "execution_count": 1,
   "metadata": {},
   "outputs": [
    {
     "name": "stderr",
     "output_type": "stream",
     "text": [
      "/home/ambitious/anaconda3/lib/python3.6/site-packages/h5py/__init__.py:36: FutureWarning: Conversion of the second argument of issubdtype from `float` to `np.floating` is deprecated. In future, it will be treated as `np.float64 == np.dtype(float).type`.\n",
      "  from ._conv import register_converters as _register_converters\n",
      "Using TensorFlow backend.\n"
     ]
    }
   ],
   "source": [
    "from keras.layers import *\n",
    "from keras.models import Model\n",
    "import numpy as np\n",
    "from keras import layers\n",
    "from sklearn.metrics import log_loss, roc_auc_score\n",
    "from sklearn.model_selection import train_test_split, KFold\n",
    "from keras.constraints import max_norm\n",
    "#model.add(Dense(64, kernel_constraint=max_norm(2.)))\n",
    "from keras import optimizers\n",
    "from keras.regularizers import l2\n",
    "\n",
    "maxlen = 225"
   ]
  },
  {
   "cell_type": "code",
   "execution_count": 2,
   "metadata": {
    "collapsed": true
   },
   "outputs": [],
   "source": [
    "def calculate_logloss(y_true, y_pred):\n",
    "    s = 0\n",
    "    for k in np.arange(6):\n",
    "        s += log_loss(y_true = y_true[:, k], y_pred = y_pred[:, k], eps = 0.0000001)\n",
    "    return s/6\n",
    "\n",
    "def calculate_roc_auc_score(y_true, y_pred):\n",
    "    s = 0\n",
    "    for k in np.arange(6):\n",
    "        s += roc_auc_score(y_true = y_true[:, k], y_score = y_pred[:, k])\n",
    "    return s/6"
   ]
  },
  {
   "cell_type": "code",
   "execution_count": 3,
   "metadata": {
    "collapsed": true
   },
   "outputs": [],
   "source": [
    "X = np.load(\"/home/ambitious/Files/train_X_old.npy\")\n",
    "y = np.load(\"/home/ambitious/Files/train_y.npy\")\n",
    "matr = np.load(\"/home/ambitious/Files/fasttext_embed_matrix_old.npy\")\n",
    "\n",
    "kf = KFold(n_splits = 10, shuffle = True, random_state = 2)\n",
    "kfold = kf.split(X, y)\n",
    "res = [a for a in kfold]\n",
    "tr, te = res[0]\n",
    "train_X, train_y = X[tr], y[tr]\n",
    "val_X, val_y = X[te], y[te]"
   ]
  },
  {
   "cell_type": "code",
   "execution_count": 4,
   "metadata": {
    "collapsed": true
   },
   "outputs": [],
   "source": [
    "def train_model(model, train_X, train_y, test_X, test_y, gap):\n",
    "    current_epoch = 1\n",
    "    best_loss = -1\n",
    "    val_losses = []\n",
    "    train_losses = []\n",
    "    weights = []\n",
    "    while True:\n",
    "        train_history = model.fit(train_X, train_y, batch_size = 128, epochs = 1, verbose = True, validation_data = (test_X, test_y))\n",
    "        loss = train_history.history['val_loss'][-1]\n",
    "        val_losses.append(loss)\n",
    "        weights.append(model.get_weights())\n",
    "        train_losses.append(train_history.history['loss'][-1])\n",
    "        print(\"Epoch {0} loss {1} best_loss {2}\".format(current_epoch, loss, best_loss))\n",
    "\n",
    "        current_epoch += 1\n",
    "        if loss < best_loss or best_loss == -1:\n",
    "            best_loss = loss\n",
    "            best_weights = model.get_weights()\n",
    "            best_epoch = current_epoch\n",
    "        else:\n",
    "            print(\"Patience: {0}\".format(current_epoch - best_epoch))\n",
    "            if current_epoch - best_epoch == gap:\n",
    "                break\n",
    "    model.set_weights(best_weights)\n",
    "    return val_losses, train_losses, weights"
   ]
  },
  {
   "cell_type": "code",
   "execution_count": 22,
   "metadata": {
    "collapsed": true
   },
   "outputs": [],
   "source": [
    "def get_DPCNN(matr, n, dense_units = 176):\n",
    "    input_layer = Input(shape = (200, ))\n",
    "    x = Embedding(input_dim = matr.shape[0], output_dim = matr.shape[1], weights = [matr], trainable = False)(input_layer)\n",
    "    x = SpatialDropout1D(0.4)(x)\n",
    "    y = Convolution1D(filters = 300, kernel_size = 3, activation = 'relu', padding = 'same')(x)\n",
    "    #y = Dropout(0.1)(y)\n",
    "    y = Convolution1D(filters = 300, kernel_size = 3, activation = 'relu', padding = 'same')(y)\n",
    "    #y = Dropout(0.2)(y)\n",
    "    # y = Flatten()(y)\n",
    "    z = Add()([x, y])\n",
    "    x = MaxPooling1D(pool_size = 3, strides = 2)(z)\n",
    "    for i in np.arange(n):\n",
    "        y = Convolution1D(filters = 300, kernel_size = 3, activation = 'relu', padding = 'same')(x)\n",
    "        #y = Dropout(0.1)(y)\n",
    "        y = Convolution1D(filters = 300, kernel_size = 3, activation = 'relu', padding = 'same')(y)\n",
    "        #y = Dropout(0.2)(y)\n",
    "        # y = Flatten()(y)\n",
    "        z = Add()([x, y])\n",
    "        x = MaxPooling1D(pool_size = 3, strides = 2)(z)\n",
    "    x = Flatten()(x)\n",
    "    #x = Dropout(0.2)(x)\n",
    "    x = Dense(dense_units, activation = 'relu')(x)\n",
    "    #x = Dropout(0.2)(x)\n",
    "    output_layer = Dense(6, activation = 'sigmoid')(x)\n",
    "    model = Model(input_layer, output_layer)\n",
    "    model.compile(loss = 'binary_crossentropy', optimizer = 'adam')\n",
    "    return model"
   ]
  },
  {
   "cell_type": "code",
   "execution_count": 6,
   "metadata": {
    "collapsed": true
   },
   "outputs": [],
   "source": [
    "history = []"
   ]
  },
  {
   "cell_type": "code",
   "execution_count": 23,
   "metadata": {
    "collapsed": true
   },
   "outputs": [
    {
     "name": "stdout",
     "output_type": "stream",
     "text": [
      "Train on 143613 samples, validate on 15958 samples\n",
      "Epoch 1/1\n",
      "143613/143613 [==============================] - 203s 1ms/step - loss: 0.0711 - val_loss: 0.0457\n",
      "Epoch 1 loss 0.04573461990315583 best_loss -1\n",
      "Train on 143613 samples, validate on 15958 samples\n",
      "Epoch 1/1\n",
      "143613/143613 [==============================] - 201s 1ms/step - loss: 0.0488 - val_loss: 0.0438\n",
      "Epoch 2 loss 0.04380488758905555 best_loss 0.04573461990315583\n",
      "Train on 143613 samples, validate on 15958 samples\n",
      "Epoch 1/1\n",
      "143613/143613 [==============================] - 201s 1ms/step - loss: 0.0455 - val_loss: 0.0471\n",
      "Epoch 3 loss 0.04710798980071739 best_loss 0.04380488758905555\n",
      "Patience: 1\n",
      "Train on 143613 samples, validate on 15958 samples\n",
      "Epoch 1/1\n",
      "143613/143613 [==============================] - 201s 1ms/step - loss: 0.0430 - val_loss: 0.0432\n",
      "Epoch 4 loss 0.04321794632249405 best_loss 0.04380488758905555\n",
      "Train on 143613 samples, validate on 15958 samples\n",
      "Epoch 1/1\n",
      "143613/143613 [==============================] - 200s 1ms/step - loss: 0.0410 - val_loss: 0.0414\n",
      "Epoch 5 loss 0.041399140499563974 best_loss 0.04321794632249405\n",
      "Train on 143613 samples, validate on 15958 samples\n",
      "Epoch 1/1\n",
      "143613/143613 [==============================] - 200s 1ms/step - loss: 0.0393 - val_loss: 0.0421\n",
      "Epoch 6 loss 0.0421378731057384 best_loss 0.041399140499563974\n",
      "Patience: 1\n",
      "Train on 143613 samples, validate on 15958 samples\n",
      "Epoch 1/1\n",
      "143613/143613 [==============================] - 200s 1ms/step - loss: 0.0378 - val_loss: 0.0396\n",
      "Epoch 7 loss 0.03958450873041679 best_loss 0.041399140499563974\n",
      "Train on 143613 samples, validate on 15958 samples\n",
      "Epoch 1/1\n",
      "143613/143613 [==============================] - 200s 1ms/step - loss: 0.0363 - val_loss: 0.0412\n",
      "Epoch 8 loss 0.04115715828693975 best_loss 0.03958450873041679\n",
      "Patience: 1\n",
      "Train on 143613 samples, validate on 15958 samples\n",
      "Epoch 1/1\n",
      "143613/143613 [==============================] - 200s 1ms/step - loss: 0.0350 - val_loss: 0.0435\n",
      "Epoch 9 loss 0.043546536029611206 best_loss 0.03958450873041679\n",
      "Patience: 2\n",
      "Train on 143613 samples, validate on 15958 samples\n",
      "Epoch 1/1\n",
      "143613/143613 [==============================] - 200s 1ms/step - loss: 0.0339 - val_loss: 0.0407\n",
      "Epoch 10 loss 0.04068344079177705 best_loss 0.03958450873041679\n",
      "Patience: 3\n",
      "Train on 143613 samples, validate on 15958 samples\n",
      "Epoch 1/1\n",
      "143613/143613 [==============================] - 199s 1ms/step - loss: 0.0325 - val_loss: 0.0427\n",
      "Epoch 11 loss 0.042709902796727636 best_loss 0.03958450873041679\n",
      "Patience: 4\n",
      "Train on 143613 samples, validate on 15958 samples\n",
      "Epoch 1/1\n",
      "143613/143613 [==============================] - 199s 1ms/step - loss: 0.0317 - val_loss: 0.0432\n",
      "Epoch 12 loss 0.04320931488299993 best_loss 0.03958450873041679\n",
      "Patience: 5\n",
      "Train on 143613 samples, validate on 15958 samples\n",
      "Epoch 1/1\n",
      "143613/143613 [==============================] - 199s 1ms/step - loss: 0.0307 - val_loss: 0.0433\n",
      "Epoch 13 loss 0.043259549158345054 best_loss 0.03958450873041679\n",
      "Patience: 6\n"
     ]
    }
   ],
   "source": [
    "history.append(train_model(get_DPCNN(matr, 5), train_X, train_y, val_X, val_y, gap = 6))"
   ]
  },
  {
   "cell_type": "code",
   "execution_count": 24,
   "metadata": {
    "collapsed": true
   },
   "outputs": [
    {
     "name": "stdout",
     "output_type": "stream",
     "text": [
      "Minimal single log_loss: 0.03958450873041679.\n",
      "Minimal averaging log_loss : 0.03869059033562191, amount: 3.\n",
      "ROC_AUC: 0.9901203866285.\n"
     ]
    }
   ],
   "source": [
    "val_loss, train_loss, weights = history[-1]\n",
    "tmp = get_DPCNN(matr, 5)\n",
    "preds = []\n",
    "for w in weights:\n",
    "    tmp.set_weights(w)\n",
    "    pred = tmp.predict(val_X, batch_size = 256)\n",
    "    preds.append((pred, calculate_logloss(y_true = val_y, y_pred = pred)))\n",
    "preds = [el[0] for el in sorted(preds, key = lambda x: x[1])]\n",
    "avg_losses = []\n",
    "for i in np.arange(1, 1 + len(val_loss)):\n",
    "    avg_losses.append(calculate_logloss(y_pred = np.mean(preds[:i], axis = 0), y_true = val_y))\n",
    "print(\"Minimal single log_loss: {0}.\".format(np.min(val_loss)))\n",
    "print(\"Minimal averaging log_loss : {0}, amount: {1}.\".format(np.min(avg_losses), np.argmin(avg_losses)))\n",
    "l = np.argmin(avg_losses)\n",
    "avg_scores.append(np.min(avg_losses))\n",
    "single_scores.append(np.min(val_loss))\n",
    "print(\"ROC_AUC: {0}.\".format(calculate_roc_auc_score(y_pred = np.mean(preds[:(l + 1)], axis = 0), y_true = val_y)))\n",
    "epochs = [el[0] for el in sorted([(i, val_loss[i]) \n",
    "                                 for i in np.arange(len(val_loss))], key = lambda x: x[1])][:(l + 1)]\n",
    "preds = []\n",
    "for epoch in epochs:\n",
    "    tmp.set_weights(weights[epoch])\n",
    "    preds.append(tmp.predict(test_X, batch_size = 256, verbose = False))\n",
    "np.save(\"dpcnn_dropout_4_0.npy\", np.mean(preds, axis = 0))"
   ]
  },
  {
   "cell_type": "markdown",
   "metadata": {},
   "source": [
    "1) дропаут после конволюций 0.1\n",
    "2) дропаут после коволюций 0.2 - фигня\n",
    "3) дропаут перед денс слоем - фигня\n",
    "4) embedding - trainable=true"
   ]
  },
  {
   "cell_type": "code",
   "execution_count": 8,
   "metadata": {
    "collapsed": true
   },
   "outputs": [],
   "source": [
    "test_X = np.load(\"/home/ambitious/Files/test_X_old.npy\")"
   ]
  },
  {
   "cell_type": "code",
   "execution_count": 9,
   "metadata": {
    "collapsed": true
   },
   "outputs": [],
   "source": [
    "avg_scores = []\n",
    "single_scores = []"
   ]
  },
  {
   "cell_type": "code",
   "execution_count": 11,
   "metadata": {},
   "outputs": [
    {
     "name": "stdout",
     "output_type": "stream",
     "text": [
      "Minimal single log_loss: 0.03972455625927587.\n",
      "Minimal averaging log_loss : 0.03845248497565846, amount: 2.\n",
      "ROC_AUC: 0.9894340923998497.\n"
     ]
    }
   ],
   "source": [
    "avg_scores = []\n",
    "single_scores = []\n",
    "\n",
    "val_loss, train_loss, weights = history[-1]\n",
    "tmp = get_DPCNN(matr, 5)\n",
    "preds = []\n",
    "for w in weights:\n",
    "    tmp.set_weights(w)\n",
    "    pred = tmp.predict(val_X, batch_size = 256)\n",
    "    preds.append((pred, calculate_logloss(y_true = val_y, y_pred = pred)))\n",
    "preds = [el[0] for el in sorted(preds, key = lambda x: x[1])]\n",
    "avg_losses = []\n",
    "for i in np.arange(1, 1 + len(val_loss)):\n",
    "    avg_losses.append(calculate_logloss(y_pred = np.mean(preds[:i], axis = 0), y_true = val_y))\n",
    "print(\"Minimal single log_loss: {0}.\".format(np.min(val_loss)))\n",
    "print(\"Minimal averaging log_loss : {0}, amount: {1}.\".format(np.min(avg_losses), np.argmin(avg_losses)))\n",
    "l = np.argmin(avg_losses)\n",
    "avg_scores.append(np.min(avg_losses))\n",
    "single_scores.append(np.min(val_loss))\n",
    "print(\"ROC_AUC: {0}.\".format(calculate_roc_auc_score(y_pred = np.mean(preds[:(l + 1)], axis = 0), y_true = val_y)))\n",
    "epochs = [el[0] for el in sorted([(i, val_loss[i]) \n",
    "                                 for i in np.arange(len(val_loss))], key = lambda x: x[1])][:(l + 1)]\n",
    "preds = []\n",
    "for epoch in epochs:\n",
    "    tmp.set_weights(weights[epoch])\n",
    "    preds.append(tmp.predict(test_X, batch_size = 256, verbose = False))\n",
    "np.save(\"dpcnn_dropout_4_1.npy\", np.mean(preds, axis = 0))"
   ]
  },
  {
   "cell_type": "code",
   "execution_count": 17,
   "metadata": {
    "collapsed": true
   },
   "outputs": [],
   "source": [
    "tmp = avg_scores[:3] + avg_scores[4:]"
   ]
  },
  {
   "cell_type": "code",
   "execution_count": 19,
   "metadata": {
    "collapsed": true
   },
   "outputs": [],
   "source": [
    "avg_scores = tmp"
   ]
  },
  {
   "cell_type": "code",
   "execution_count": 20,
   "metadata": {
    "collapsed": true
   },
   "outputs": [],
   "source": [
    "single_scores = single_scores[:3] + single_scores[4:]"
   ]
  },
  {
   "cell_type": "code",
   "execution_count": 13,
   "metadata": {},
   "outputs": [
    {
     "name": "stdout",
     "output_type": "stream",
     "text": [
      "Populating the interactive namespace from numpy and matplotlib\n"
     ]
    },
    {
     "name": "stderr",
     "output_type": "stream",
     "text": [
      "/home/ambitious/anaconda3/lib/python3.6/site-packages/IPython/core/magics/pylab.py:160: UserWarning: pylab import has clobbered these variables: ['multiply', 'concatenate', 'dot', 'copy', 'minimum', 'average', 'subtract', 'maximum', 'add']\n",
      "`%matplotlib` prevents importing * from pylab and numpy\n",
      "  \"\\n`%matplotlib` prevents importing * from pylab and numpy\"\n"
     ]
    }
   ],
   "source": [
    "import matplotlib, seaborn\n",
    "import matplotlib.pyplot as plt\n",
    "#matplotlib.rc('xtick', labelsize=10) \n",
    "#matplotlib.rc('ytick', labelsize=10) \n",
    "seaborn.set_style('darkgrid')\n",
    "%pylab inline\n",
    "matplotlib.rcParams.update({'font.size': 15})"
   ]
  },
  {
   "cell_type": "code",
   "execution_count": 24,
   "metadata": {
    "collapsed": true
   },
   "outputs": [],
   "source": [
    "matplotlib.rcParams.update({'font.size': 15})"
   ]
  },
  {
   "cell_type": "code",
   "execution_count": 25,
   "metadata": {},
   "outputs": [
    {
     "data": {
      "text/plain": [
       "Text(0,0.5,'Log Loss')"
      ]
     },
     "execution_count": 25,
     "metadata": {},
     "output_type": "execute_result"
    },
    {
     "data": {
      "image/png": "[encoded data removed]",
      "text/plain": [
       "<matplotlib.figure.Figure at 0x7f846e554ef0>"
      ]
     },
     "metadata": {},
     "output_type": "display_data"
    }
   ],
   "source": [
    "plt.figure(figsize = (16, 8))\n",
    "plt.plot([48, 64, 80, 112, 128, 144, 160, 176], single_scores)\n",
    "plt.plot([48, 64, 80, 112, 128, 144, 160, 176], avg_scores)\n",
    "plt.title(\"DPCNN, Dense Layer\")\n",
    "plt.legend([\"Single Epoch\", \"Average\"])\n",
    "plt.xlabel(\"Units\")\n",
    "plt.xticks([48, 64, 80, 112, 128, 144, 160, 176])\n",
    "plt.ylabel(\"Log Loss\")"
   ]
  },
  {
   "cell_type": "code",
   "execution_count": null,
   "metadata": {
    "collapsed": true
   },
   "outputs": [],
   "source": []
  }
 ],
 "metadata": {
  "kernelspec": {
   "display_name": "Python 3",
   "language": "python",
   "name": "python3"
  },
  "language_info": {
   "codemirror_mode": {
    "name": "ipython",
    "version": 3
   },
   "file_extension": ".py",
   "mimetype": "text/x-python",
   "name": "python",
   "nbconvert_exporter": "python",
   "pygments_lexer": "ipython3",
   "version": "3.6.3"
  }
 },
 "nbformat": 4,
 "nbformat_minor": 2
}
